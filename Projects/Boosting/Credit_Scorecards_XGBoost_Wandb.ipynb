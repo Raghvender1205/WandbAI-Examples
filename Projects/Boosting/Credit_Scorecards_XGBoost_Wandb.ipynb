{
 "cells": [
  {
   "cell_type": "markdown",
   "metadata": {},
   "source": [
    "In this we will see how `wandb` enables regulated entities to\n",
    "1. `Track and version` their data ETL pipelines (locally or `GCS`, `SC3`)\n",
    "2. `Track experiment results` and store trained models\n",
    "3. `Visually Inspect` metrics and candidate credit scorecards\n",
    "4. `Optimize Performance` with hyperparameter sweeps"
   ]
  },
  {
   "cell_type": "code",
   "execution_count": 15,
   "metadata": {},
   "outputs": [],
   "source": [
    "import ast\n",
    "import sys\n",
    "import json\n",
    "from pathlib import Path\n",
    "from dill.source import getsource\n",
    "from dill import detect\n",
    "\n",
    "import pandas as pd\n",
    "import numpy as np\n",
    "import plotly\n",
    "import matplotlib.pyplot as plt\n",
    "\n",
    "from scipy.stats import ks_2samp\n",
    "from sklearn import metrics, model_selection\n",
    "import xgboost as xgb\n",
    "\n",
    "pd.set_option('display.max_columns', None)"
   ]
  },
  {
   "cell_type": "markdown",
   "metadata": {},
   "source": [
    "## Data\n",
    "`Wandb Artifacts` enables one to log end-to-end training pipelines to ensure your experiments are always reproducible.\n",
    "\n",
    "### Artifacts Reference Example\n",
    "<b>Create an artifact with the `S3/GCS` metadata</b>\n",
    "\n",
    "The artifact only consists of metadata about the S3/GCS object such as its ETag, size, and version ID (if object versioning is enabled on the bucket).\n",
    "```python\n",
    "run = wandb.init()\n",
    "artifact = wandb.Artifact('mnist', type='dataset')\n",
    "artifact.add_reference('s3://my-bucket/datasets/mnist')\n",
    "run.log_artifact(artifact)\n",
    "```\n",
    "<b>Download the `artifact` locally when needed</b>\n",
    "\n",
    "W&B will use the metadata recorded when the artifact was logged to retrieve the files from the underlying bucket.\n",
    "```python\n",
    "artifact = run.use_artifact('mnist:latest', type='dataset')\n",
    "artifact_dir = artifact.download()\n",
    "```"
   ]
  },
  {
   "cell_type": "code",
   "execution_count": 16,
   "metadata": {},
   "outputs": [],
   "source": [
    "# Setup \n",
    "import wandb\n",
    "wandb.login()\n",
    "\n",
    "ENTITY = None "
   ]
  },
  {
   "cell_type": "markdown",
   "metadata": {},
   "source": [
    "### Vehicle Load Dataset\n",
    "Load the Dataset using Wandb `Artifacts`"
   ]
  },
  {
   "cell_type": "code",
   "execution_count": 17,
   "metadata": {},
   "outputs": [],
   "source": [
    "data_dir = Path('.')\n",
    "model_dir = Path('models')\n",
    "model_dir.mkdir(exist_ok=True)\n",
    "\n",
    "id_vars = ['UniqueID']\n",
    "target_var = 'loan_default'"
   ]
  },
  {
   "cell_type": "code",
   "execution_count": 18,
   "metadata": {},
   "outputs": [],
   "source": [
    "def fn_to_string(fn):\n",
    "    \"\"\" Pickle Functions \"\"\"\n",
    "    return getsource(detect.code(fn))"
   ]
  },
  {
   "cell_type": "markdown",
   "metadata": {},
   "source": [
    "Download data from Wandb Artifacts"
   ]
  },
  {
   "cell_type": "code",
   "execution_count": 19,
   "metadata": {},
   "outputs": [
    {
     "data": {
      "text/html": [
       "Tracking run with wandb version 0.12.17"
      ],
      "text/plain": [
       "<IPython.core.display.HTML object>"
      ]
     },
     "metadata": {},
     "output_type": "display_data"
    },
    {
     "data": {
      "text/html": [
       "Run data is saved locally in <code>d:\\ML\\WandbAI\\Examples\\Projects\\Boosting\\wandb\\run-20220609_163928-15qi3eoq</code>"
      ],
      "text/plain": [
       "<IPython.core.display.HTML object>"
      ]
     },
     "metadata": {},
     "output_type": "display_data"
    },
    {
     "data": {
      "text/html": [
       "Syncing run <strong><a href=\"https://wandb.ai/raghvender/credit_scorecard_boosting_WandbEx/runs/15qi3eoq\" target=\"_blank\">deep-deluge-11</a></strong> to <a href=\"https://wandb.ai/raghvender/credit_scorecard_boosting_WandbEx\" target=\"_blank\">Weights & Biases</a> (<a href=\"https://wandb.me/run\" target=\"_blank\">docs</a>)<br/>"
      ],
      "text/plain": [
       "<IPython.core.display.HTML object>"
      ]
     },
     "metadata": {},
     "output_type": "display_data"
    }
   ],
   "source": [
    "run = wandb.init(entity=ENTITY, project='credit_scorecard_boosting_WandbEx', job_type='preprocess-data', config={'wandb_nb': 'wandb_credict_soc'})"
   ]
  },
  {
   "cell_type": "code",
   "execution_count": 20,
   "metadata": {},
   "outputs": [],
   "source": [
    "dataset_art = run.use_artifact('morgan/credit_scorecard/vehicle_loan_defaults:latest', type='dataset')\n",
    "dataset_dir = dataset_art.download(data_dir)"
   ]
  },
  {
   "cell_type": "code",
   "execution_count": 21,
   "metadata": {},
   "outputs": [],
   "source": [
    "from data_utils import (\n",
    "    describe_data_g_targ,\n",
    "    one_hot_encode_data,\n",
    "    create_feature_interaction_constraints,\n",
    "    get_monotonic_constraints,\n",
    "    load_training_data,\n",
    "    calculate_credit_scores\n",
    ")\n",
    "\n",
    "from scorecard import generate_scorecard"
   ]
  },
  {
   "cell_type": "markdown",
   "metadata": {},
   "source": [
    "### One Hot Encode Data"
   ]
  },
  {
   "cell_type": "code",
   "execution_count": 22,
   "metadata": {},
   "outputs": [],
   "source": [
    "# Load data into Dataframe\n",
    "dataset = pd.read_csv(data_dir/'vehicle_loans_subset.csv')\n",
    "\n",
    "# One Hot Encode Data\n",
    "dataset, p_vars = one_hot_encode_data(dataset, id_vars, target_var)\n",
    "\n",
    "# Save Preprocessed data\n",
    "processed_data_path = data_dir/'proc_ds.csv'\n",
    "dataset.to_csv(processed_data_path, index=False)"
   ]
  },
  {
   "cell_type": "markdown",
   "metadata": {},
   "source": [
    "### Log Processed Data to Wandb Artifacts"
   ]
  },
  {
   "cell_type": "code",
   "execution_count": 23,
   "metadata": {},
   "outputs": [
    {
     "data": {
      "text/html": [
       "Waiting for W&B process to finish... <strong style=\"color:green\">(success).</strong>"
      ],
      "text/plain": [
       "<IPython.core.display.HTML object>"
      ]
     },
     "metadata": {},
     "output_type": "display_data"
    },
    {
     "data": {
      "application/vnd.jupyter.widget-view+json": {
       "model_id": "b46628dc42dc42cb8139ea3165068b40",
       "version_major": 2,
       "version_minor": 0
      },
      "text/plain": [
       "VBox(children=(Label(value='0.001 MB of 0.001 MB uploaded (0.000 MB deduped)\\r'), FloatProgress(value=1.0, max…"
      ]
     },
     "metadata": {},
     "output_type": "display_data"
    },
    {
     "data": {
      "text/html": [
       "Synced <strong style=\"color:#cdcd00\">deep-deluge-11</strong>: <a href=\"https://wandb.ai/raghvender/credit_scorecard_boosting_WandbEx/runs/15qi3eoq\" target=\"_blank\">https://wandb.ai/raghvender/credit_scorecard_boosting_WandbEx/runs/15qi3eoq</a><br/>Synced 5 W&B file(s), 0 media file(s), 0 artifact file(s) and 1 other file(s)"
      ],
      "text/plain": [
       "<IPython.core.display.HTML object>"
      ]
     },
     "metadata": {},
     "output_type": "display_data"
    },
    {
     "data": {
      "text/html": [
       "Find logs at: <code>.\\wandb\\run-20220609_163928-15qi3eoq\\logs</code>"
      ],
      "text/plain": [
       "<IPython.core.display.HTML object>"
      ]
     },
     "metadata": {},
     "output_type": "display_data"
    }
   ],
   "source": [
    "# Create a new artifact for the processed data, including the function that created it, to Artifacts\n",
    "processed_ds_art = wandb.Artifact(name='vehicle_defaults_processed', \n",
    "                                    type='processed_dataset',\n",
    "                                    description='One-hot encoded dataset',\n",
    "                                    metadata={'preprocessing_fn': fn_to_string(one_hot_encode_data)}\n",
    "                                 )\n",
    "\n",
    "# Attach our processed data to the Artifact \n",
    "processed_ds_art.add_file(processed_data_path)\n",
    "\n",
    "# Log this Artifact to the current wandb run\n",
    "run.log_artifact(processed_ds_art)\n",
    "\n",
    "run.finish()"
   ]
  },
  {
   "cell_type": "markdown",
   "metadata": {},
   "source": [
    "### Get Train/Val Split"
   ]
  },
  {
   "cell_type": "code",
   "execution_count": 24,
   "metadata": {},
   "outputs": [
    {
     "data": {
      "text/html": [
       "Tracking run with wandb version 0.12.17"
      ],
      "text/plain": [
       "<IPython.core.display.HTML object>"
      ]
     },
     "metadata": {},
     "output_type": "display_data"
    },
    {
     "data": {
      "text/html": [
       "Run data is saved locally in <code>d:\\ML\\WandbAI\\Examples\\Projects\\Boosting\\wandb\\run-20220609_163952-3jclxr8n</code>"
      ],
      "text/plain": [
       "<IPython.core.display.HTML object>"
      ]
     },
     "metadata": {},
     "output_type": "display_data"
    },
    {
     "data": {
      "text/html": [
       "Syncing run <strong><a href=\"https://wandb.ai/raghvender/credit_scorecard_boosting_WandbEx/runs/3jclxr8n\" target=\"_blank\">vocal-donkey-12</a></strong> to <a href=\"https://wandb.ai/raghvender/credit_scorecard_boosting_WandbEx\" target=\"_blank\">Weights & Biases</a> (<a href=\"https://wandb.me/run\" target=\"_blank\">docs</a>)<br/>"
      ],
      "text/plain": [
       "<IPython.core.display.HTML object>"
      ]
     },
     "metadata": {},
     "output_type": "display_data"
    },
    {
     "name": "stdout",
     "output_type": "stream",
     "text": [
      "Train dataset size: 0    136907\n",
      "1     37958\n",
      "Name: loan_default, dtype: int64 \n",
      "\n",
      "Validation dataset sizeL 0    45636\n",
      "1    12653\n",
      "Name: loan_default, dtype: int64\n"
     ]
    },
    {
     "data": {
      "text/html": [
       "Waiting for W&B process to finish... <strong style=\"color:green\">(success).</strong>"
      ],
      "text/plain": [
       "<IPython.core.display.HTML object>"
      ]
     },
     "metadata": {},
     "output_type": "display_data"
    },
    {
     "data": {
      "application/vnd.jupyter.widget-view+json": {
       "model_id": "21de5cd770e5473cab10453594ef4f3b",
       "version_major": 2,
       "version_minor": 0
      },
      "text/plain": [
       "VBox(children=(Label(value='0.001 MB of 0.001 MB uploaded (0.000 MB deduped)\\r'), FloatProgress(value=1.0, max…"
      ]
     },
     "metadata": {},
     "output_type": "display_data"
    },
    {
     "data": {
      "text/html": [
       "Synced <strong style=\"color:#cdcd00\">vocal-donkey-12</strong>: <a href=\"https://wandb.ai/raghvender/credit_scorecard_boosting_WandbEx/runs/3jclxr8n\" target=\"_blank\">https://wandb.ai/raghvender/credit_scorecard_boosting_WandbEx/runs/3jclxr8n</a><br/>Synced 6 W&B file(s), 0 media file(s), 0 artifact file(s) and 1 other file(s)"
      ],
      "text/plain": [
       "<IPython.core.display.HTML object>"
      ]
     },
     "metadata": {},
     "output_type": "display_data"
    },
    {
     "data": {
      "text/html": [
       "Find logs at: <code>.\\wandb\\run-20220609_163952-3jclxr8n\\logs</code>"
      ],
      "text/plain": [
       "<IPython.core.display.HTML object>"
      ]
     },
     "metadata": {},
     "output_type": "display_data"
    }
   ],
   "source": [
    "with wandb.init(entity=ENTITY, project='credit_scorecard_boosting_WandbEx', job_type='train-val-split', config={'wandb_nb': 'wandb_credit_soc'}) as run:\n",
    "    # Download the subset of the vehicle loan default data from W&B\n",
    "    dataset_art = run.use_artifact('vehicle_defaults_processed:latest', type='processed_dataset')\n",
    "    dataset_dir = dataset_art.download(data_dir)\n",
    "    dataset = pd.read_csv(processed_data_path)\n",
    "    \n",
    "    # Set Split Params\n",
    "    test_size = 0.25\n",
    "    random_state = 42\n",
    "    \n",
    "    # Log the splilt params\n",
    "    run.config.update({'test_size':test_size, 'random_state': random_state})\n",
    "    \n",
    "    # Do the Train/Val Split\n",
    "    trndat, valdat = model_selection.train_test_split(dataset, test_size=test_size, \n",
    "                                                      random_state=random_state, stratify=dataset[[target_var]])\n",
    "\n",
    "    print(f'Train dataset size: {trndat[target_var].value_counts()} \\n')\n",
    "    print(f'Validation dataset sizeL {valdat[target_var].value_counts()}')\n",
    "    \n",
    "    # Save split datasets\n",
    "    train_path = data_dir/'train.csv'\n",
    "    val_path = data_dir/'val.csv'\n",
    "    trndat.to_csv(train_path, index=False)\n",
    "    valdat.to_csv(val_path, index=False)\n",
    "    \n",
    "    # Create a new artifact for the processed data, including the function that created it, to Artifacts\n",
    "    split_ds_art = wandb.Artifact(name='vehicle_defaults_split', \n",
    "                                        type='train-val-dataset',\n",
    "                                        description='Processed dataset split into train and valiation',\n",
    "                                        metadata={'test_size': test_size, 'random_state': random_state}\n",
    "                                     )\n",
    "    \n",
    "    # Attach our processed data to the Artifact \n",
    "    split_ds_art.add_file(train_path)\n",
    "    split_ds_art.add_file(val_path)\n",
    "    \n",
    "    # Log the Artifact\n",
    "    run.log_artifact(split_ds_art)"
   ]
  },
  {
   "cell_type": "markdown",
   "metadata": {},
   "source": [
    "#### Inspect Training Dataset"
   ]
  },
  {
   "cell_type": "code",
   "execution_count": 25,
   "metadata": {},
   "outputs": [
    {
     "name": "stdout",
     "output_type": "stream",
     "text": [
      "Number of records (num): 174865\n",
      "Target count (n_targ): 37958\n",
      "Target rate (base_rate): 0.21707031138306693\n",
      "Target odds (base_odds): 0.27725390228403224\n",
      "Target log odds (base_log_odds): -1.2828215778857626\n",
      "Dummy model negative log-likelihood (NLL_null): 91484.9725597928\n",
      "Dummy model LogLoss (LogLoss_null): 0.5231748638080393\n",
      "\n"
     ]
    },
    {
     "data": {
      "text/html": [
       "<div>\n",
       "<style scoped>\n",
       "    .dataframe tbody tr th:only-of-type {\n",
       "        vertical-align: middle;\n",
       "    }\n",
       "\n",
       "    .dataframe tbody tr th {\n",
       "        vertical-align: top;\n",
       "    }\n",
       "\n",
       "    .dataframe thead th {\n",
       "        text-align: right;\n",
       "    }\n",
       "</style>\n",
       "<table border=\"1\" class=\"dataframe\">\n",
       "  <thead>\n",
       "    <tr style=\"text-align: right;\">\n",
       "      <th></th>\n",
       "      <th>UniqueID</th>\n",
       "      <th>loan_default</th>\n",
       "      <th>AgeInMonths</th>\n",
       "      <th>DaysSinceDisbursement</th>\n",
       "      <th>LTV</th>\n",
       "      <th>PERFORM_CNS_SCORE</th>\n",
       "      <th>Employment_Type__Salaried</th>\n",
       "      <th>Employment_Type__Self employed</th>\n",
       "      <th>State_ID__1</th>\n",
       "      <th>State_ID__2</th>\n",
       "      <th>State_ID__3</th>\n",
       "      <th>State_ID__4</th>\n",
       "      <th>State_ID__5</th>\n",
       "      <th>State_ID__6</th>\n",
       "      <th>State_ID__7</th>\n",
       "      <th>State_ID__8</th>\n",
       "      <th>State_ID__9</th>\n",
       "      <th>State_ID__10</th>\n",
       "      <th>State_ID__11</th>\n",
       "      <th>State_ID__12</th>\n",
       "      <th>State_ID__13</th>\n",
       "      <th>State_ID__14</th>\n",
       "      <th>State_ID__15</th>\n",
       "      <th>State_ID__16</th>\n",
       "      <th>State_ID__17</th>\n",
       "      <th>State_ID__18</th>\n",
       "      <th>State_ID__19</th>\n",
       "      <th>State_ID__20</th>\n",
       "      <th>State_ID__21</th>\n",
       "      <th>State_ID__22</th>\n",
       "      <th>manufacturer_id__45</th>\n",
       "      <th>manufacturer_id__48</th>\n",
       "      <th>manufacturer_id__49</th>\n",
       "      <th>manufacturer_id__51</th>\n",
       "      <th>manufacturer_id__67</th>\n",
       "      <th>manufacturer_id__86</th>\n",
       "      <th>manufacturer_id__120</th>\n",
       "      <th>manufacturer_id__145</th>\n",
       "      <th>manufacturer_id__152</th>\n",
       "      <th>manufacturer_id__153</th>\n",
       "      <th>manufacturer_id__156</th>\n",
       "    </tr>\n",
       "  </thead>\n",
       "  <tbody>\n",
       "    <tr>\n",
       "      <th>17797</th>\n",
       "      <td>435556</td>\n",
       "      <td>0</td>\n",
       "      <td>324.0</td>\n",
       "      <td>141.0</td>\n",
       "      <td>80.00</td>\n",
       "      <td>NaN</td>\n",
       "      <td>0</td>\n",
       "      <td>1</td>\n",
       "      <td>0</td>\n",
       "      <td>0</td>\n",
       "      <td>0</td>\n",
       "      <td>0</td>\n",
       "      <td>0</td>\n",
       "      <td>1</td>\n",
       "      <td>0</td>\n",
       "      <td>0</td>\n",
       "      <td>0</td>\n",
       "      <td>0</td>\n",
       "      <td>0</td>\n",
       "      <td>0</td>\n",
       "      <td>0</td>\n",
       "      <td>0</td>\n",
       "      <td>0</td>\n",
       "      <td>0</td>\n",
       "      <td>0</td>\n",
       "      <td>0</td>\n",
       "      <td>0</td>\n",
       "      <td>0</td>\n",
       "      <td>0</td>\n",
       "      <td>0</td>\n",
       "      <td>0</td>\n",
       "      <td>0</td>\n",
       "      <td>0</td>\n",
       "      <td>0</td>\n",
       "      <td>0</td>\n",
       "      <td>1</td>\n",
       "      <td>0</td>\n",
       "      <td>0</td>\n",
       "      <td>0</td>\n",
       "      <td>0</td>\n",
       "      <td>0</td>\n",
       "    </tr>\n",
       "    <tr>\n",
       "      <th>4403</th>\n",
       "      <td>421891</td>\n",
       "      <td>0</td>\n",
       "      <td>351.0</td>\n",
       "      <td>150.0</td>\n",
       "      <td>64.96</td>\n",
       "      <td>718.0</td>\n",
       "      <td>0</td>\n",
       "      <td>1</td>\n",
       "      <td>0</td>\n",
       "      <td>0</td>\n",
       "      <td>0</td>\n",
       "      <td>0</td>\n",
       "      <td>0</td>\n",
       "      <td>0</td>\n",
       "      <td>0</td>\n",
       "      <td>0</td>\n",
       "      <td>0</td>\n",
       "      <td>0</td>\n",
       "      <td>0</td>\n",
       "      <td>0</td>\n",
       "      <td>1</td>\n",
       "      <td>0</td>\n",
       "      <td>0</td>\n",
       "      <td>0</td>\n",
       "      <td>0</td>\n",
       "      <td>0</td>\n",
       "      <td>0</td>\n",
       "      <td>0</td>\n",
       "      <td>0</td>\n",
       "      <td>0</td>\n",
       "      <td>0</td>\n",
       "      <td>1</td>\n",
       "      <td>0</td>\n",
       "      <td>0</td>\n",
       "      <td>0</td>\n",
       "      <td>0</td>\n",
       "      <td>0</td>\n",
       "      <td>0</td>\n",
       "      <td>0</td>\n",
       "      <td>0</td>\n",
       "      <td>0</td>\n",
       "    </tr>\n",
       "    <tr>\n",
       "      <th>190714</th>\n",
       "      <td>611145</td>\n",
       "      <td>0</td>\n",
       "      <td>255.0</td>\n",
       "      <td>69.0</td>\n",
       "      <td>83.98</td>\n",
       "      <td>NaN</td>\n",
       "      <td>0</td>\n",
       "      <td>1</td>\n",
       "      <td>0</td>\n",
       "      <td>0</td>\n",
       "      <td>0</td>\n",
       "      <td>0</td>\n",
       "      <td>0</td>\n",
       "      <td>0</td>\n",
       "      <td>0</td>\n",
       "      <td>0</td>\n",
       "      <td>0</td>\n",
       "      <td>0</td>\n",
       "      <td>0</td>\n",
       "      <td>0</td>\n",
       "      <td>1</td>\n",
       "      <td>0</td>\n",
       "      <td>0</td>\n",
       "      <td>0</td>\n",
       "      <td>0</td>\n",
       "      <td>0</td>\n",
       "      <td>0</td>\n",
       "      <td>0</td>\n",
       "      <td>0</td>\n",
       "      <td>0</td>\n",
       "      <td>1</td>\n",
       "      <td>0</td>\n",
       "      <td>0</td>\n",
       "      <td>0</td>\n",
       "      <td>0</td>\n",
       "      <td>0</td>\n",
       "      <td>0</td>\n",
       "      <td>0</td>\n",
       "      <td>0</td>\n",
       "      <td>0</td>\n",
       "      <td>0</td>\n",
       "    </tr>\n",
       "    <tr>\n",
       "      <th>115372</th>\n",
       "      <td>534751</td>\n",
       "      <td>0</td>\n",
       "      <td>229.0</td>\n",
       "      <td>98.0</td>\n",
       "      <td>76.38</td>\n",
       "      <td>NaN</td>\n",
       "      <td>0</td>\n",
       "      <td>0</td>\n",
       "      <td>0</td>\n",
       "      <td>0</td>\n",
       "      <td>1</td>\n",
       "      <td>0</td>\n",
       "      <td>0</td>\n",
       "      <td>0</td>\n",
       "      <td>0</td>\n",
       "      <td>0</td>\n",
       "      <td>0</td>\n",
       "      <td>0</td>\n",
       "      <td>0</td>\n",
       "      <td>0</td>\n",
       "      <td>0</td>\n",
       "      <td>0</td>\n",
       "      <td>0</td>\n",
       "      <td>0</td>\n",
       "      <td>0</td>\n",
       "      <td>0</td>\n",
       "      <td>0</td>\n",
       "      <td>0</td>\n",
       "      <td>0</td>\n",
       "      <td>0</td>\n",
       "      <td>1</td>\n",
       "      <td>0</td>\n",
       "      <td>0</td>\n",
       "      <td>0</td>\n",
       "      <td>0</td>\n",
       "      <td>0</td>\n",
       "      <td>0</td>\n",
       "      <td>0</td>\n",
       "      <td>0</td>\n",
       "      <td>0</td>\n",
       "      <td>0</td>\n",
       "    </tr>\n",
       "    <tr>\n",
       "      <th>98591</th>\n",
       "      <td>517772</td>\n",
       "      <td>0</td>\n",
       "      <td>325.0</td>\n",
       "      <td>104.0</td>\n",
       "      <td>77.25</td>\n",
       "      <td>700.0</td>\n",
       "      <td>0</td>\n",
       "      <td>1</td>\n",
       "      <td>0</td>\n",
       "      <td>0</td>\n",
       "      <td>0</td>\n",
       "      <td>0</td>\n",
       "      <td>0</td>\n",
       "      <td>1</td>\n",
       "      <td>0</td>\n",
       "      <td>0</td>\n",
       "      <td>0</td>\n",
       "      <td>0</td>\n",
       "      <td>0</td>\n",
       "      <td>0</td>\n",
       "      <td>0</td>\n",
       "      <td>0</td>\n",
       "      <td>0</td>\n",
       "      <td>0</td>\n",
       "      <td>0</td>\n",
       "      <td>0</td>\n",
       "      <td>0</td>\n",
       "      <td>0</td>\n",
       "      <td>0</td>\n",
       "      <td>0</td>\n",
       "      <td>0</td>\n",
       "      <td>0</td>\n",
       "      <td>0</td>\n",
       "      <td>0</td>\n",
       "      <td>0</td>\n",
       "      <td>1</td>\n",
       "      <td>0</td>\n",
       "      <td>0</td>\n",
       "      <td>0</td>\n",
       "      <td>0</td>\n",
       "      <td>0</td>\n",
       "    </tr>\n",
       "  </tbody>\n",
       "</table>\n",
       "</div>"
      ],
      "text/plain": [
       "        UniqueID  loan_default  AgeInMonths  DaysSinceDisbursement    LTV  \\\n",
       "17797     435556             0        324.0                  141.0  80.00   \n",
       "4403      421891             0        351.0                  150.0  64.96   \n",
       "190714    611145             0        255.0                   69.0  83.98   \n",
       "115372    534751             0        229.0                   98.0  76.38   \n",
       "98591     517772             0        325.0                  104.0  77.25   \n",
       "\n",
       "        PERFORM_CNS_SCORE  Employment_Type__Salaried  \\\n",
       "17797                 NaN                          0   \n",
       "4403                718.0                          0   \n",
       "190714                NaN                          0   \n",
       "115372                NaN                          0   \n",
       "98591               700.0                          0   \n",
       "\n",
       "        Employment_Type__Self employed  State_ID__1  State_ID__2  State_ID__3  \\\n",
       "17797                                1            0            0            0   \n",
       "4403                                 1            0            0            0   \n",
       "190714                               1            0            0            0   \n",
       "115372                               0            0            0            1   \n",
       "98591                                1            0            0            0   \n",
       "\n",
       "        State_ID__4  State_ID__5  State_ID__6  State_ID__7  State_ID__8  \\\n",
       "17797             0            0            1            0            0   \n",
       "4403              0            0            0            0            0   \n",
       "190714            0            0            0            0            0   \n",
       "115372            0            0            0            0            0   \n",
       "98591             0            0            1            0            0   \n",
       "\n",
       "        State_ID__9  State_ID__10  State_ID__11  State_ID__12  State_ID__13  \\\n",
       "17797             0             0             0             0             0   \n",
       "4403              0             0             0             0             1   \n",
       "190714            0             0             0             0             1   \n",
       "115372            0             0             0             0             0   \n",
       "98591             0             0             0             0             0   \n",
       "\n",
       "        State_ID__14  State_ID__15  State_ID__16  State_ID__17  State_ID__18  \\\n",
       "17797              0             0             0             0             0   \n",
       "4403               0             0             0             0             0   \n",
       "190714             0             0             0             0             0   \n",
       "115372             0             0             0             0             0   \n",
       "98591              0             0             0             0             0   \n",
       "\n",
       "        State_ID__19  State_ID__20  State_ID__21  State_ID__22  \\\n",
       "17797              0             0             0             0   \n",
       "4403               0             0             0             0   \n",
       "190714             0             0             0             0   \n",
       "115372             0             0             0             0   \n",
       "98591              0             0             0             0   \n",
       "\n",
       "        manufacturer_id__45  manufacturer_id__48  manufacturer_id__49  \\\n",
       "17797                     0                    0                    0   \n",
       "4403                      0                    1                    0   \n",
       "190714                    1                    0                    0   \n",
       "115372                    1                    0                    0   \n",
       "98591                     0                    0                    0   \n",
       "\n",
       "        manufacturer_id__51  manufacturer_id__67  manufacturer_id__86  \\\n",
       "17797                     0                    0                    1   \n",
       "4403                      0                    0                    0   \n",
       "190714                    0                    0                    0   \n",
       "115372                    0                    0                    0   \n",
       "98591                     0                    0                    1   \n",
       "\n",
       "        manufacturer_id__120  manufacturer_id__145  manufacturer_id__152  \\\n",
       "17797                      0                     0                     0   \n",
       "4403                       0                     0                     0   \n",
       "190714                     0                     0                     0   \n",
       "115372                     0                     0                     0   \n",
       "98591                      0                     0                     0   \n",
       "\n",
       "        manufacturer_id__153  manufacturer_id__156  \n",
       "17797                      0                     0  \n",
       "4403                       0                     0  \n",
       "190714                     0                     0  \n",
       "115372                     0                     0  \n",
       "98591                      0                     0  "
      ]
     },
     "execution_count": 25,
     "metadata": {},
     "output_type": "execute_result"
    }
   ],
   "source": [
    "trndict = describe_data_g_targ(trndat, target_var)\n",
    "trndat.head()"
   ]
  },
  {
   "cell_type": "markdown",
   "metadata": {},
   "source": [
    "### Log Dataset with Wandb Tables"
   ]
  },
  {
   "cell_type": "code",
   "execution_count": 26,
   "metadata": {},
   "outputs": [
    {
     "data": {
      "text/html": [
       "Tracking run with wandb version 0.12.17"
      ],
      "text/plain": [
       "<IPython.core.display.HTML object>"
      ]
     },
     "metadata": {},
     "output_type": "display_data"
    },
    {
     "data": {
      "text/html": [
       "Run data is saved locally in <code>d:\\ML\\WandbAI\\Examples\\Projects\\Boosting\\wandb\\run-20220609_164014-2fzmlga1</code>"
      ],
      "text/plain": [
       "<IPython.core.display.HTML object>"
      ]
     },
     "metadata": {},
     "output_type": "display_data"
    },
    {
     "data": {
      "text/html": [
       "Syncing run <strong><a href=\"https://wandb.ai/raghvender/credit_scorecard_boosting_WandbEx/runs/2fzmlga1\" target=\"_blank\">dry-galaxy-13</a></strong> to <a href=\"https://wandb.ai/raghvender/credit_scorecard_boosting_WandbEx\" target=\"_blank\">Weights & Biases</a> (<a href=\"https://wandb.me/run\" target=\"_blank\">docs</a>)<br/>"
      ],
      "text/plain": [
       "<IPython.core.display.HTML object>"
      ]
     },
     "metadata": {},
     "output_type": "display_data"
    },
    {
     "data": {
      "text/html": [
       "Waiting for W&B process to finish... <strong style=\"color:green\">(success).</strong>"
      ],
      "text/plain": [
       "<IPython.core.display.HTML object>"
      ]
     },
     "metadata": {},
     "output_type": "display_data"
    },
    {
     "data": {
      "application/vnd.jupyter.widget-view+json": {
       "model_id": "8e8616358cd1425e833b6c0994d60a4e",
       "version_major": 2,
       "version_minor": 0
      },
      "text/plain": [
       "VBox(children=(Label(value='0.144 MB of 0.144 MB uploaded (0.000 MB deduped)\\r'), FloatProgress(value=1.0, max…"
      ]
     },
     "metadata": {},
     "output_type": "display_data"
    },
    {
     "data": {
      "text/html": [
       "Synced <strong style=\"color:#cdcd00\">dry-galaxy-13</strong>: <a href=\"https://wandb.ai/raghvender/credit_scorecard_boosting_WandbEx/runs/2fzmlga1\" target=\"_blank\">https://wandb.ai/raghvender/credit_scorecard_boosting_WandbEx/runs/2fzmlga1</a><br/>Synced 5 W&B file(s), 1 media file(s), 1 artifact file(s) and 1 other file(s)"
      ],
      "text/plain": [
       "<IPython.core.display.HTML object>"
      ]
     },
     "metadata": {},
     "output_type": "display_data"
    },
    {
     "data": {
      "text/html": [
       "Find logs at: <code>.\\wandb\\run-20220609_164014-2fzmlga1\\logs</code>"
      ],
      "text/plain": [
       "<IPython.core.display.HTML object>"
      ]
     },
     "metadata": {},
     "output_type": "display_data"
    }
   ],
   "source": [
    "run = wandb.init(entity=ENTITY, project='credit_scorecard_boosting_WandbEx', job_type='log-dataset', config={'wandb_nb': 'wandb_credit_soc'})\n",
    "\n",
    "# Create a Wandb Table\n",
    "table = wandb.Table(dataframe=trndat.sample(1000))\n",
    "\n",
    "# Log the Table to your W&B workspace\n",
    "wandb.log({'processed_dataset': table})\n",
    "\n",
    "# Close the wandb run\n",
    "wandb.finish()"
   ]
  },
  {
   "cell_type": "markdown",
   "metadata": {},
   "source": [
    "## Modelling\n",
    "\n",
    "#### Feature Interaction Modelling Constraints\n",
    "Set feature interaction constraints such that no between-variable interactions are allowed. This is necessary to be able to use XGBoost to develop a scorecard. "
   ]
  },
  {
   "cell_type": "code",
   "execution_count": 27,
   "metadata": {},
   "outputs": [],
   "source": [
    "x_consts, interaction_consts, consts_path = create_feature_interaction_constraints(p_vars, data_dir)"
   ]
  },
  {
   "cell_type": "markdown",
   "metadata": {},
   "source": [
    "#### Monotonic Constraints\n",
    "Manually define which variables will have a `Monotonic Relationship` to our target `load_default`. "
   ]
  },
  {
   "cell_type": "code",
   "execution_count": 28,
   "metadata": {},
   "outputs": [],
   "source": [
    "monotonic_vars = ['PERFORM_CNS_SCORE', 'AgeInMonths', 'LTV']\n",
    "\n",
    "monotonic_constraints_str = get_monotonic_constraints(monotonic_vars, p_vars, data_dir)"
   ]
  },
  {
   "cell_type": "markdown",
   "metadata": {},
   "source": [
    "## Fit XGBoost Model\n",
    "\n",
    "#### Training on GPU\n",
    "If you want to run the model on GPU then change the following params.\n",
    "```python\n",
    "'tree_method': 'gpu_hist'\n",
    "``` "
   ]
  },
  {
   "cell_type": "code",
   "execution_count": 29,
   "metadata": {},
   "outputs": [
    {
     "data": {
      "text/html": [
       "Tracking run with wandb version 0.12.17"
      ],
      "text/plain": [
       "<IPython.core.display.HTML object>"
      ]
     },
     "metadata": {},
     "output_type": "display_data"
    },
    {
     "data": {
      "text/html": [
       "Run data is saved locally in <code>d:\\ML\\WandbAI\\Examples\\Projects\\Boosting\\wandb\\run-20220609_164033-15y7ditb</code>"
      ],
      "text/plain": [
       "<IPython.core.display.HTML object>"
      ]
     },
     "metadata": {},
     "output_type": "display_data"
    },
    {
     "data": {
      "text/html": [
       "Syncing run <strong><a href=\"https://wandb.ai/raghvender/credit_scorecard_boosting_WandbEx/runs/15y7ditb\" target=\"_blank\">stoic-forest-14</a></strong> to <a href=\"https://wandb.ai/raghvender/credit_scorecard_boosting_WandbEx\" target=\"_blank\">Weights & Biases</a> (<a href=\"https://wandb.me/run\" target=\"_blank\">docs</a>)<br/>"
      ],
      "text/plain": [
       "<IPython.core.display.HTML object>"
      ]
     },
     "metadata": {},
     "output_type": "display_data"
    }
   ],
   "source": [
    "run = wandb.init(entity=ENTITY, project='credit_scorecard_boosting_WandbEx', job_type='train-model', config={'wandb_nb': 'wandb_credit_soc'})"
   ]
  },
  {
   "cell_type": "markdown",
   "metadata": {},
   "source": [
    "#### Setup and Log Parameters\n",
    "1. Using monotonic constraints means using `tree_method` as `exact, hist or gpu_hist`.\n",
    "2. `n_estimators` will define the number of trees used in the final scorecard"
   ]
  },
  {
   "cell_type": "code",
   "execution_count": 30,
   "metadata": {},
   "outputs": [],
   "source": [
    "base_rate = round(trndict['base_rate'], 6)\n",
    "early_stopping_rounds = 40"
   ]
  },
  {
   "cell_type": "code",
   "execution_count": 31,
   "metadata": {},
   "outputs": [],
   "source": [
    "bst_params = {\n",
    "        'objective': 'binary:logistic'\n",
    "        , 'base_score': base_rate\n",
    "        , 'gamma': 1               ## def: 0\n",
    "        , 'learning_rate': 0.1     ## def: 0.1\n",
    "        , 'max_depth': 3\n",
    "        , 'min_child_weight': 100  ## def: 1\n",
    "        , 'n_estimators': 25\n",
    "        , 'nthread': 24 \n",
    "        , 'random_state': 42\n",
    "        , 'reg_alpha': 0\n",
    "        , 'reg_lambda': 0          ## def: 1\n",
    "        , 'eval_metric': ['auc', 'logloss']\n",
    "        , 'tree_method': 'hist'  # use `gpu_hist` to train on GPU\n",
    "        , 'interaction_constraints' : interaction_consts\n",
    "        , 'monotone_constraints' : monotonic_constraints_str\n",
    "    }"
   ]
  },
  {
   "cell_type": "markdown",
   "metadata": {},
   "source": [
    "Log the xgboost training parameters to the W&B run config"
   ]
  },
  {
   "cell_type": "code",
   "execution_count": 32,
   "metadata": {},
   "outputs": [],
   "source": [
    "run.config.update(dict(bst_params))\n",
    "run.config.update({'early_stopping_rounds':early_stopping_rounds})"
   ]
  },
  {
   "cell_type": "markdown",
   "metadata": {},
   "source": [
    "#### Load Training Data from Wandb Artifacts"
   ]
  },
  {
   "cell_type": "code",
   "execution_count": 33,
   "metadata": {},
   "outputs": [],
   "source": [
    "# Load our training data from Artifacts\n",
    "trndat, valdat = load_training_data(run=run, data_dir=data_dir, \n",
    "                                    artifact_name='vehicle_defaults_split:latest')\n",
    "\n",
    "## Extract target column as a series\n",
    "y_trn = trndat.loc[:,target_var].astype(int)\n",
    "y_val = valdat.loc[:,target_var].astype(int)"
   ]
  },
  {
   "cell_type": "markdown",
   "metadata": {},
   "source": [
    "#### Fit Model\n",
    "To log all the xgboost parameters we use `wandb_callback`."
   ]
  },
  {
   "cell_type": "code",
   "execution_count": 34,
   "metadata": {},
   "outputs": [
    {
     "name": "stderr",
     "output_type": "stream",
     "text": [
      "G:\\Temp\\ipykernel_10128\\4127615274.py:9: UserWarning: wandb_callback will be deprecated in favor of WandbCallback. Please use WandbCallback for more features.\n",
      "  callbacks=[wandb_callback()])\n",
      "d:\\Development\\Python\\Python3.10\\lib\\site-packages\\xgboost\\sklearn.py:793: UserWarning: `early_stopping_rounds` in `fit` method is deprecated for better compatibility with scikit-learn, use `early_stopping_rounds` in constructor or`set_params` instead.\n",
      "  warnings.warn(\n",
      "d:\\Development\\Python\\Python3.10\\lib\\site-packages\\xgboost\\sklearn.py:793: UserWarning: `callbacks` in `fit` method is deprecated for better compatibility with scikit-learn, use `callbacks` in constructor or`set_params` instead.\n",
      "  warnings.warn(\n"
     ]
    },
    {
     "ename": "ValueError",
     "evalue": "Constrained features are not a subset of training data feature names",
     "output_type": "error",
     "traceback": [
      "\u001b[1;31m---------------------------------------------------------------------------\u001b[0m",
      "\u001b[1;31mKeyError\u001b[0m                                  Traceback (most recent call last)",
      "File \u001b[1;32md:\\Development\\Python\\Python3.10\\lib\\site-packages\\xgboost\\core.py:1432\u001b[0m, in \u001b[0;36mBooster._transform_interaction_constraints\u001b[1;34m(self, value)\u001b[0m\n\u001b[0;32m   <a href='file:///d%3A/Development/Python/Python3.10/lib/site-packages/xgboost/core.py?line=1429'>1430</a>\u001b[0m \u001b[39mfor\u001b[39;00m constraint \u001b[39min\u001b[39;00m value:\n\u001b[0;32m   <a href='file:///d%3A/Development/Python/Python3.10/lib/site-packages/xgboost/core.py?line=1430'>1431</a>\u001b[0m     result\u001b[39m.\u001b[39mappend(\n\u001b[1;32m-> <a href='file:///d%3A/Development/Python/Python3.10/lib/site-packages/xgboost/core.py?line=1431'>1432</a>\u001b[0m         [feature_idx_mapping[feature_name] \u001b[39mfor\u001b[39;00m feature_name \u001b[39min\u001b[39;00m constraint]\n\u001b[0;32m   <a href='file:///d%3A/Development/Python/Python3.10/lib/site-packages/xgboost/core.py?line=1432'>1433</a>\u001b[0m     )\n\u001b[0;32m   <a href='file:///d%3A/Development/Python/Python3.10/lib/site-packages/xgboost/core.py?line=1433'>1434</a>\u001b[0m \u001b[39mreturn\u001b[39;00m result\n",
      "File \u001b[1;32md:\\Development\\Python\\Python3.10\\lib\\site-packages\\xgboost\\core.py:1432\u001b[0m, in \u001b[0;36m<listcomp>\u001b[1;34m(.0)\u001b[0m\n\u001b[0;32m   <a href='file:///d%3A/Development/Python/Python3.10/lib/site-packages/xgboost/core.py?line=1429'>1430</a>\u001b[0m \u001b[39mfor\u001b[39;00m constraint \u001b[39min\u001b[39;00m value:\n\u001b[0;32m   <a href='file:///d%3A/Development/Python/Python3.10/lib/site-packages/xgboost/core.py?line=1430'>1431</a>\u001b[0m     result\u001b[39m.\u001b[39mappend(\n\u001b[1;32m-> <a href='file:///d%3A/Development/Python/Python3.10/lib/site-packages/xgboost/core.py?line=1431'>1432</a>\u001b[0m         [feature_idx_mapping[feature_name] \u001b[39mfor\u001b[39;00m feature_name \u001b[39min\u001b[39;00m constraint]\n\u001b[0;32m   <a href='file:///d%3A/Development/Python/Python3.10/lib/site-packages/xgboost/core.py?line=1432'>1433</a>\u001b[0m     )\n\u001b[0;32m   <a href='file:///d%3A/Development/Python/Python3.10/lib/site-packages/xgboost/core.py?line=1433'>1434</a>\u001b[0m \u001b[39mreturn\u001b[39;00m result\n",
      "\u001b[1;31mKeyError\u001b[0m: 0",
      "\nThe above exception was the direct cause of the following exception:\n",
      "\u001b[1;31mValueError\u001b[0m                                Traceback (most recent call last)",
      "\u001b[1;32md:\\ML\\WandbAI\\Examples\\Projects\\Boosting\\Credit_Scorecards_XGBoost_Wandb.ipynb Cell 36'\u001b[0m in \u001b[0;36m<cell line: 7>\u001b[1;34m()\u001b[0m\n\u001b[0;32m      <a href='vscode-notebook-cell:/d%3A/ML/WandbAI/Examples/Projects/Boosting/Credit_Scorecards_XGBoost_Wandb.ipynb#ch0000035?line=3'>4</a>\u001b[0m xgbmodel \u001b[39m=\u001b[39m xgb\u001b[39m.\u001b[39mXGBClassifier(\u001b[39m*\u001b[39m\u001b[39m*\u001b[39mbst_params, use_label_encoder\u001b[39m=\u001b[39m\u001b[39mFalse\u001b[39;00m)\n\u001b[0;32m      <a href='vscode-notebook-cell:/d%3A/ML/WandbAI/Examples/Projects/Boosting/Credit_Scorecards_XGBoost_Wandb.ipynb#ch0000035?line=5'>6</a>\u001b[0m \u001b[39m# Train the model, using the wandb_callback for logging\u001b[39;00m\n\u001b[1;32m----> <a href='vscode-notebook-cell:/d%3A/ML/WandbAI/Examples/Projects/Boosting/Credit_Scorecards_XGBoost_Wandb.ipynb#ch0000035?line=6'>7</a>\u001b[0m xgbmodel\u001b[39m.\u001b[39;49mfit(trndat[p_vars], y_trn, eval_set\u001b[39m=\u001b[39;49m[(valdat[p_vars], y_val)], \n\u001b[0;32m      <a href='vscode-notebook-cell:/d%3A/ML/WandbAI/Examples/Projects/Boosting/Credit_Scorecards_XGBoost_Wandb.ipynb#ch0000035?line=7'>8</a>\u001b[0m              early_stopping_rounds\u001b[39m=\u001b[39;49mrun\u001b[39m.\u001b[39;49mconfig[\u001b[39m'\u001b[39;49m\u001b[39mearly_stopping_rounds\u001b[39;49m\u001b[39m'\u001b[39;49m],\n\u001b[0;32m      <a href='vscode-notebook-cell:/d%3A/ML/WandbAI/Examples/Projects/Boosting/Credit_Scorecards_XGBoost_Wandb.ipynb#ch0000035?line=8'>9</a>\u001b[0m              callbacks\u001b[39m=\u001b[39;49m[wandb_callback()])\n\u001b[0;32m     <a href='vscode-notebook-cell:/d%3A/ML/WandbAI/Examples/Projects/Boosting/Credit_Scorecards_XGBoost_Wandb.ipynb#ch0000035?line=10'>11</a>\u001b[0m bstr \u001b[39m=\u001b[39m xgbmodel\u001b[39m.\u001b[39mget_booster()\n",
      "File \u001b[1;32md:\\Development\\Python\\Python3.10\\lib\\site-packages\\xgboost\\core.py:532\u001b[0m, in \u001b[0;36m_deprecate_positional_args.<locals>.inner_f\u001b[1;34m(*args, **kwargs)\u001b[0m\n\u001b[0;32m    <a href='file:///d%3A/Development/Python/Python3.10/lib/site-packages/xgboost/core.py?line=529'>530</a>\u001b[0m \u001b[39mfor\u001b[39;00m k, arg \u001b[39min\u001b[39;00m \u001b[39mzip\u001b[39m(sig\u001b[39m.\u001b[39mparameters, args):\n\u001b[0;32m    <a href='file:///d%3A/Development/Python/Python3.10/lib/site-packages/xgboost/core.py?line=530'>531</a>\u001b[0m     kwargs[k] \u001b[39m=\u001b[39m arg\n\u001b[1;32m--> <a href='file:///d%3A/Development/Python/Python3.10/lib/site-packages/xgboost/core.py?line=531'>532</a>\u001b[0m \u001b[39mreturn\u001b[39;00m f(\u001b[39m*\u001b[39m\u001b[39m*\u001b[39mkwargs)\n",
      "File \u001b[1;32md:\\Development\\Python\\Python3.10\\lib\\site-packages\\xgboost\\sklearn.py:1400\u001b[0m, in \u001b[0;36mXGBClassifier.fit\u001b[1;34m(self, X, y, sample_weight, base_margin, eval_set, eval_metric, early_stopping_rounds, verbose, xgb_model, sample_weight_eval_set, base_margin_eval_set, feature_weights, callbacks)\u001b[0m\n\u001b[0;32m   <a href='file:///d%3A/Development/Python/Python3.10/lib/site-packages/xgboost/sklearn.py?line=1378'>1379</a>\u001b[0m model, metric, params, early_stopping_rounds, callbacks \u001b[39m=\u001b[39m \u001b[39mself\u001b[39m\u001b[39m.\u001b[39m_configure_fit(\n\u001b[0;32m   <a href='file:///d%3A/Development/Python/Python3.10/lib/site-packages/xgboost/sklearn.py?line=1379'>1380</a>\u001b[0m     xgb_model, eval_metric, params, early_stopping_rounds, callbacks\n\u001b[0;32m   <a href='file:///d%3A/Development/Python/Python3.10/lib/site-packages/xgboost/sklearn.py?line=1380'>1381</a>\u001b[0m )\n\u001b[0;32m   <a href='file:///d%3A/Development/Python/Python3.10/lib/site-packages/xgboost/sklearn.py?line=1381'>1382</a>\u001b[0m train_dmatrix, evals \u001b[39m=\u001b[39m _wrap_evaluation_matrices(\n\u001b[0;32m   <a href='file:///d%3A/Development/Python/Python3.10/lib/site-packages/xgboost/sklearn.py?line=1382'>1383</a>\u001b[0m     missing\u001b[39m=\u001b[39m\u001b[39mself\u001b[39m\u001b[39m.\u001b[39mmissing,\n\u001b[0;32m   <a href='file:///d%3A/Development/Python/Python3.10/lib/site-packages/xgboost/sklearn.py?line=1383'>1384</a>\u001b[0m     X\u001b[39m=\u001b[39mX,\n\u001b[1;32m   (...)\u001b[0m\n\u001b[0;32m   <a href='file:///d%3A/Development/Python/Python3.10/lib/site-packages/xgboost/sklearn.py?line=1396'>1397</a>\u001b[0m     enable_categorical\u001b[39m=\u001b[39m\u001b[39mself\u001b[39m\u001b[39m.\u001b[39menable_categorical,\n\u001b[0;32m   <a href='file:///d%3A/Development/Python/Python3.10/lib/site-packages/xgboost/sklearn.py?line=1397'>1398</a>\u001b[0m )\n\u001b[1;32m-> <a href='file:///d%3A/Development/Python/Python3.10/lib/site-packages/xgboost/sklearn.py?line=1399'>1400</a>\u001b[0m \u001b[39mself\u001b[39m\u001b[39m.\u001b[39m_Booster \u001b[39m=\u001b[39m train(\n\u001b[0;32m   <a href='file:///d%3A/Development/Python/Python3.10/lib/site-packages/xgboost/sklearn.py?line=1400'>1401</a>\u001b[0m     params,\n\u001b[0;32m   <a href='file:///d%3A/Development/Python/Python3.10/lib/site-packages/xgboost/sklearn.py?line=1401'>1402</a>\u001b[0m     train_dmatrix,\n\u001b[0;32m   <a href='file:///d%3A/Development/Python/Python3.10/lib/site-packages/xgboost/sklearn.py?line=1402'>1403</a>\u001b[0m     \u001b[39mself\u001b[39;49m\u001b[39m.\u001b[39;49mget_num_boosting_rounds(),\n\u001b[0;32m   <a href='file:///d%3A/Development/Python/Python3.10/lib/site-packages/xgboost/sklearn.py?line=1403'>1404</a>\u001b[0m     evals\u001b[39m=\u001b[39;49mevals,\n\u001b[0;32m   <a href='file:///d%3A/Development/Python/Python3.10/lib/site-packages/xgboost/sklearn.py?line=1404'>1405</a>\u001b[0m     early_stopping_rounds\u001b[39m=\u001b[39;49mearly_stopping_rounds,\n\u001b[0;32m   <a href='file:///d%3A/Development/Python/Python3.10/lib/site-packages/xgboost/sklearn.py?line=1405'>1406</a>\u001b[0m     evals_result\u001b[39m=\u001b[39;49mevals_result,\n\u001b[0;32m   <a href='file:///d%3A/Development/Python/Python3.10/lib/site-packages/xgboost/sklearn.py?line=1406'>1407</a>\u001b[0m     obj\u001b[39m=\u001b[39;49mobj,\n\u001b[0;32m   <a href='file:///d%3A/Development/Python/Python3.10/lib/site-packages/xgboost/sklearn.py?line=1407'>1408</a>\u001b[0m     custom_metric\u001b[39m=\u001b[39;49mmetric,\n\u001b[0;32m   <a href='file:///d%3A/Development/Python/Python3.10/lib/site-packages/xgboost/sklearn.py?line=1408'>1409</a>\u001b[0m     verbose_eval\u001b[39m=\u001b[39;49mverbose,\n\u001b[0;32m   <a href='file:///d%3A/Development/Python/Python3.10/lib/site-packages/xgboost/sklearn.py?line=1409'>1410</a>\u001b[0m     xgb_model\u001b[39m=\u001b[39;49mmodel,\n\u001b[0;32m   <a href='file:///d%3A/Development/Python/Python3.10/lib/site-packages/xgboost/sklearn.py?line=1410'>1411</a>\u001b[0m     callbacks\u001b[39m=\u001b[39;49mcallbacks,\n\u001b[0;32m   <a href='file:///d%3A/Development/Python/Python3.10/lib/site-packages/xgboost/sklearn.py?line=1411'>1412</a>\u001b[0m )\n\u001b[0;32m   <a href='file:///d%3A/Development/Python/Python3.10/lib/site-packages/xgboost/sklearn.py?line=1413'>1414</a>\u001b[0m \u001b[39mif\u001b[39;00m \u001b[39mnot\u001b[39;00m callable(\u001b[39mself\u001b[39m\u001b[39m.\u001b[39mobjective):\n\u001b[0;32m   <a href='file:///d%3A/Development/Python/Python3.10/lib/site-packages/xgboost/sklearn.py?line=1414'>1415</a>\u001b[0m     \u001b[39mself\u001b[39m\u001b[39m.\u001b[39mobjective \u001b[39m=\u001b[39m params[\u001b[39m\"\u001b[39m\u001b[39mobjective\u001b[39m\u001b[39m\"\u001b[39m]\n",
      "File \u001b[1;32md:\\Development\\Python\\Python3.10\\lib\\site-packages\\xgboost\\core.py:532\u001b[0m, in \u001b[0;36m_deprecate_positional_args.<locals>.inner_f\u001b[1;34m(*args, **kwargs)\u001b[0m\n\u001b[0;32m    <a href='file:///d%3A/Development/Python/Python3.10/lib/site-packages/xgboost/core.py?line=529'>530</a>\u001b[0m \u001b[39mfor\u001b[39;00m k, arg \u001b[39min\u001b[39;00m \u001b[39mzip\u001b[39m(sig\u001b[39m.\u001b[39mparameters, args):\n\u001b[0;32m    <a href='file:///d%3A/Development/Python/Python3.10/lib/site-packages/xgboost/core.py?line=530'>531</a>\u001b[0m     kwargs[k] \u001b[39m=\u001b[39m arg\n\u001b[1;32m--> <a href='file:///d%3A/Development/Python/Python3.10/lib/site-packages/xgboost/core.py?line=531'>532</a>\u001b[0m \u001b[39mreturn\u001b[39;00m f(\u001b[39m*\u001b[39m\u001b[39m*\u001b[39mkwargs)\n",
      "File \u001b[1;32md:\\Development\\Python\\Python3.10\\lib\\site-packages\\xgboost\\training.py:156\u001b[0m, in \u001b[0;36mtrain\u001b[1;34m(params, dtrain, num_boost_round, evals, obj, feval, maximize, early_stopping_rounds, evals_result, verbose_eval, xgb_model, callbacks, custom_metric)\u001b[0m\n\u001b[0;32m    <a href='file:///d%3A/Development/Python/Python3.10/lib/site-packages/xgboost/training.py?line=152'>153</a>\u001b[0m metric_fn \u001b[39m=\u001b[39m _configure_custom_metric(feval, custom_metric)\n\u001b[0;32m    <a href='file:///d%3A/Development/Python/Python3.10/lib/site-packages/xgboost/training.py?line=153'>154</a>\u001b[0m evals \u001b[39m=\u001b[39m \u001b[39mlist\u001b[39m(evals) \u001b[39mif\u001b[39;00m evals \u001b[39melse\u001b[39;00m []\n\u001b[1;32m--> <a href='file:///d%3A/Development/Python/Python3.10/lib/site-packages/xgboost/training.py?line=155'>156</a>\u001b[0m bst \u001b[39m=\u001b[39m Booster(params, [dtrain] \u001b[39m+\u001b[39;49m [d[\u001b[39m0\u001b[39;49m] \u001b[39mfor\u001b[39;49;00m d \u001b[39min\u001b[39;49;00m evals], model_file\u001b[39m=\u001b[39;49mxgb_model)\n\u001b[0;32m    <a href='file:///d%3A/Development/Python/Python3.10/lib/site-packages/xgboost/training.py?line=156'>157</a>\u001b[0m start_iteration \u001b[39m=\u001b[39m \u001b[39m0\u001b[39m\n\u001b[0;32m    <a href='file:///d%3A/Development/Python/Python3.10/lib/site-packages/xgboost/training.py?line=158'>159</a>\u001b[0m _assert_new_callback(callbacks)\n",
      "File \u001b[1;32md:\\Development\\Python\\Python3.10\\lib\\site-packages\\xgboost\\core.py:1396\u001b[0m, in \u001b[0;36mBooster.__init__\u001b[1;34m(self, params, cache, model_file)\u001b[0m\n\u001b[0;32m   <a href='file:///d%3A/Development/Python/Python3.10/lib/site-packages/xgboost/core.py?line=1393'>1394</a>\u001b[0m params \u001b[39m=\u001b[39m params \u001b[39mor\u001b[39;00m {}\n\u001b[0;32m   <a href='file:///d%3A/Development/Python/Python3.10/lib/site-packages/xgboost/core.py?line=1394'>1395</a>\u001b[0m params_processed \u001b[39m=\u001b[39m _configure_metrics(params\u001b[39m.\u001b[39mcopy())\n\u001b[1;32m-> <a href='file:///d%3A/Development/Python/Python3.10/lib/site-packages/xgboost/core.py?line=1395'>1396</a>\u001b[0m params_processed \u001b[39m=\u001b[39m \u001b[39mself\u001b[39;49m\u001b[39m.\u001b[39;49m_configure_constraints(params_processed)\n\u001b[0;32m   <a href='file:///d%3A/Development/Python/Python3.10/lib/site-packages/xgboost/core.py?line=1396'>1397</a>\u001b[0m \u001b[39mif\u001b[39;00m \u001b[39misinstance\u001b[39m(params_processed, \u001b[39mlist\u001b[39m):\n\u001b[0;32m   <a href='file:///d%3A/Development/Python/Python3.10/lib/site-packages/xgboost/core.py?line=1397'>1398</a>\u001b[0m     params_processed\u001b[39m.\u001b[39mappend((\u001b[39m\"\u001b[39m\u001b[39mvalidate_parameters\u001b[39m\u001b[39m\"\u001b[39m, \u001b[39mTrue\u001b[39;00m))\n",
      "File \u001b[1;32md:\\Development\\Python\\Python3.10\\lib\\site-packages\\xgboost\\core.py:1462\u001b[0m, in \u001b[0;36mBooster._configure_constraints\u001b[1;34m(self, params)\u001b[0m\n\u001b[0;32m   <a href='file:///d%3A/Development/Python/Python3.10/lib/site-packages/xgboost/core.py?line=1459'>1460</a>\u001b[0m             params[idx] \u001b[39m=\u001b[39m (name, \u001b[39mself\u001b[39m\u001b[39m.\u001b[39m_transform_monotone_constrains(value))\n\u001b[0;32m   <a href='file:///d%3A/Development/Python/Python3.10/lib/site-packages/xgboost/core.py?line=1460'>1461</a>\u001b[0m         \u001b[39melif\u001b[39;00m name \u001b[39m==\u001b[39m \u001b[39m\"\u001b[39m\u001b[39minteraction_constraints\u001b[39m\u001b[39m\"\u001b[39m:\n\u001b[1;32m-> <a href='file:///d%3A/Development/Python/Python3.10/lib/site-packages/xgboost/core.py?line=1461'>1462</a>\u001b[0m             params[idx] \u001b[39m=\u001b[39m (name, \u001b[39mself\u001b[39;49m\u001b[39m.\u001b[39;49m_transform_interaction_constraints(value))\n\u001b[0;32m   <a href='file:///d%3A/Development/Python/Python3.10/lib/site-packages/xgboost/core.py?line=1463'>1464</a>\u001b[0m \u001b[39mreturn\u001b[39;00m params\n",
      "File \u001b[1;32md:\\Development\\Python\\Python3.10\\lib\\site-packages\\xgboost\\core.py:1436\u001b[0m, in \u001b[0;36mBooster._transform_interaction_constraints\u001b[1;34m(self, value)\u001b[0m\n\u001b[0;32m   <a href='file:///d%3A/Development/Python/Python3.10/lib/site-packages/xgboost/core.py?line=1433'>1434</a>\u001b[0m     \u001b[39mreturn\u001b[39;00m result\n\u001b[0;32m   <a href='file:///d%3A/Development/Python/Python3.10/lib/site-packages/xgboost/core.py?line=1434'>1435</a>\u001b[0m \u001b[39mexcept\u001b[39;00m \u001b[39mKeyError\u001b[39;00m \u001b[39mas\u001b[39;00m e:\n\u001b[1;32m-> <a href='file:///d%3A/Development/Python/Python3.10/lib/site-packages/xgboost/core.py?line=1435'>1436</a>\u001b[0m     \u001b[39mraise\u001b[39;00m \u001b[39mValueError\u001b[39;00m(\n\u001b[0;32m   <a href='file:///d%3A/Development/Python/Python3.10/lib/site-packages/xgboost/core.py?line=1436'>1437</a>\u001b[0m         \u001b[39m\"\u001b[39m\u001b[39mConstrained features are not a subset of training data feature names\u001b[39m\u001b[39m\"\u001b[39m\n\u001b[0;32m   <a href='file:///d%3A/Development/Python/Python3.10/lib/site-packages/xgboost/core.py?line=1437'>1438</a>\u001b[0m     ) \u001b[39mfrom\u001b[39;00m \u001b[39me\u001b[39;00m\n",
      "\u001b[1;31mValueError\u001b[0m: Constrained features are not a subset of training data feature names"
     ]
    }
   ],
   "source": [
    "from wandb.xgboost import wandb_callback\n",
    "\n",
    "# Initialize the XGBoostClassifier\n",
    "xgbmodel = xgb.XGBClassifier(**bst_params, use_label_encoder=False)\n",
    "\n",
    "# Train the model, using the wandb_callback for logging\n",
    "xgbmodel.fit(trndat[p_vars], y_trn, eval_set=[(valdat[p_vars], y_val)], \n",
    "             early_stopping_rounds=run.config['early_stopping_rounds'],\n",
    "             callbacks=[wandb_callback()])\n",
    "\n",
    "bstr = xgbmodel.get_booster()"
   ]
  },
  {
   "cell_type": "code",
   "execution_count": null,
   "metadata": {},
   "outputs": [],
   "source": []
  }
 ],
 "metadata": {
  "interpreter": {
   "hash": "377e50a5246b311701775dacc641cf519e90716189c79b110a6f1ebdee9e2206"
  },
  "kernelspec": {
   "display_name": "Python 3.10.4 64-bit",
   "language": "python",
   "name": "python3"
  },
  "language_info": {
   "codemirror_mode": {
    "name": "ipython",
    "version": 3
   },
   "file_extension": ".py",
   "mimetype": "text/x-python",
   "name": "python",
   "nbconvert_exporter": "python",
   "pygments_lexer": "ipython3",
   "version": "3.10.4"
  },
  "orig_nbformat": 4
 },
 "nbformat": 4,
 "nbformat_minor": 2
}
